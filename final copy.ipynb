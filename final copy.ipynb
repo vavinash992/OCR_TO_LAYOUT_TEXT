{
 "cells": [
  {
   "cell_type": "code",
   "execution_count": 523,
   "metadata": {},
   "outputs": [],
   "source": [
    "from final_structure.utils import _get_image\n",
    "from final_structure.aws import get_table_markdown\n",
    "from final_structure.gcs import make_request, format_text_from_annotations"
   ]
  },
  {
   "cell_type": "code",
   "execution_count": 524,
   "metadata": {},
   "outputs": [],
   "source": [
    "image_path = 'test_dataset/Demo Documents/w2/W2 Sample 1.pdf'"
   ]
  },
  {
   "cell_type": "code",
   "execution_count": 525,
   "metadata": {},
   "outputs": [],
   "source": [
    "image = _get_image(image_path)"
   ]
  },
  {
   "cell_type": "code",
   "execution_count": 526,
   "metadata": {},
   "outputs": [],
   "source": [
    "# (table_dict,dimension_dict)=get_table_markdown(image[0][0],image[0][1],image[0][2])"
   ]
  },
  {
   "cell_type": "code",
   "execution_count": 527,
   "metadata": {},
   "outputs": [],
   "source": [
    "gcs_response = make_request(image[0][0])"
   ]
  },
  {
   "cell_type": "code",
   "execution_count": 528,
   "metadata": {},
   "outputs": [],
   "source": [
    "# gcs_extraction = format_text_from_annotations(gcs_response,dimension_dict,y_threshold=10,num_segments=70,x_close_threshold=100)"
   ]
  },
  {
   "cell_type": "code",
   "execution_count": 529,
   "metadata": {},
   "outputs": [],
   "source": [
    "# tables = \"\"\n",
    "# for idx,value in table_dict.items():\n",
    "#     tables += f\"#{idx}:\\n\\n {value}\\n\\n\""
   ]
  },
  {
   "cell_type": "code",
   "execution_count": 530,
   "metadata": {},
   "outputs": [],
   "source": [
    "# all_pages_extraction = []\n",
    "# for idx,image_idx in enumerate(image):\n",
    "#     gcs_response = make_request(image_idx[0])\n",
    "#     (table_dict,dimension_dict)=get_table_markdown(image_idx[0],image_idx[1],image_idx[2],idx)\n",
    "#     gcs_response = format_text_from_annotations(gcs_response,dimension_dict,y_threshold=10,num_segments=80,x_close_threshold=70)\n",
    "#     tables = \"\"\n",
    "#     for idx,value in table_dict.items():\n",
    "#         tables += f\"#{idx}:\\n\\n {value}\\n\\n\"\n",
    "#     final_Response = f\"{gcs_response}\\n\\n{tables}\"\n",
    "#     all_pages_extraction.append(final_Response)"
   ]
  },
  {
   "cell_type": "code",
   "execution_count": 531,
   "metadata": {},
   "outputs": [],
   "source": [
    "no_table = True\n",
    "if no_table:\n",
    "    dimension_dict = {}\n",
    "all_pages_extraction = []\n",
    "for idx,image_idx in enumerate(image):\n",
    "    gcs_response = make_request(image_idx[0])\n",
    "    gcs_response = format_text_from_annotations(gcs_response,dimension_dict,y_threshold=5,num_segments=10,x_close_threshold=40)\n",
    "    final_Response = gcs_response\n",
    "    all_pages_extraction.append(final_Response)"
   ]
  },
  {
   "cell_type": "code",
   "execution_count": 532,
   "metadata": {},
   "outputs": [
    {
     "data": {
      "text/plain": [
       "[\"22222   Void    a 653-32-0120 Employee's social security numberFor Official Use Only▸\\n                                OMB No. 1545-0008\\nb Employer identificationnumber ( EIN )          1 Wages , tips , other compensation2 Federal income tax withheld\\n32-1203146                                      10,000.00       15,000.00\\nEmployer's name , address , and ZIP code3 Social security wages4 Social security tax withheld\\nWFH Enterprises, Inc.                          20,000.00       25,000.00\\n600 Boll Weevil Circle                  5 Medicare wages and tips6 Medicare tax withheld\\nEnterpriseAL 36330                                652.00          740.00\\n                                        7 Social security tips  8 Allocated tips\\n                                                450.00\\nd Control number                        9 Verification code     10 Dependent care benefits\\n        SKTP4\\n• Employee's first name and initialLast name       Suff . 11 Nonqualifiedplans           12a See instructions for box 12\\nDavid P                 Becon\\n                                        13 By           Third party 12b\\n1706 Military Street South\\nAve 2506                                14 Other                12c\\nHamilton AL 35570\\n                                                                 12d\\nf Employee's address and ZIP code\\n\\n15 S Employer's state ID number16 State wages , tips , etc. 17 State income tax 18 Local wages , tips , etc. 19 Local income tax 20 Locally name\\nAL 203-62-1230          6,520.00        320.00  260.00          30.00\\n        W - 2 Wage and Tax Statement    2018            Department of the Treasury - Internal Revenue Service\\n\\nForm                                                     For Privacy Act and Paperwork Reduction\\nCopy A For Social Security Administration- Send this entire page with    Act Notice , see the separate instructions .\\nForm W - 3 to the Social Security Administration; photocopiesare not acceptable.                               Cat . No. 10134D\\n                        Do Not Cut , Fold , or Staple Forms on This Page\"]"
      ]
     },
     "execution_count": 532,
     "metadata": {},
     "output_type": "execute_result"
    }
   ],
   "source": [
    "all_pages_extraction"
   ]
  },
  {
   "cell_type": "code",
   "execution_count": 533,
   "metadata": {},
   "outputs": [],
   "source": [
    "# final_Response = f\"{gcs_extraction}\\n\\n{tables}\"\n",
    "# final_Response = f\"{gcs_extraction}\""
   ]
  },
  {
   "cell_type": "code",
   "execution_count": 534,
   "metadata": {},
   "outputs": [],
   "source": [
    "dir_paths = image_path.split(\"/\")"
   ]
  },
  {
   "cell_type": "code",
   "execution_count": 535,
   "metadata": {},
   "outputs": [],
   "source": [
    "filename=dir_paths[-1].split(\".\")[0]\n",
    "filedir=dir_paths[-2]"
   ]
  },
  {
   "cell_type": "code",
   "execution_count": 536,
   "metadata": {},
   "outputs": [],
   "source": [
    "from reportlab.pdfgen import canvas\n",
    "from reportlab.lib.pagesizes import letter\n",
    "from reportlab.pdfbase import pdfmetrics\n",
    "from reportlab.pdfbase.ttfonts import TTFont\n",
    "import os\n",
    "\n",
    "def strings_to_pdf(strings, width=1800, height=1500):  # Default size for A4\n",
    "    # Register the font\n",
    "    pdfmetrics.registerFont(TTFont('Monaco', 'MONACO.TTF'))\n",
    "    os.makedirs(f\"submission/pdf/{filedir}\", exist_ok=True)\n",
    "    \n",
    "    # Create a new PDF with custom dimensions\n",
    "    c = canvas.Canvas(f\"submission/pdf/{filedir}/{filename}.pdf\", pagesize=(width, height))\n",
    "    \n",
    "    for text in strings:\n",
    "        c.setFont(\"Monaco\", 12)  # Set the font and size\n",
    "        \n",
    "        # Split the text into lines\n",
    "        lines = text.split('\\n')\n",
    "        \n",
    "        # Draw each line on the PDF\n",
    "        y = height - 50  # Start drawing 50 points from the top of the page\n",
    "        for line in lines:\n",
    "            c.drawString(50, y, line)  # Start drawing 50 points from the left of the page\n",
    "            y -= 20  # Move down 20 points for the next line\n",
    "        \n",
    "        # End the current page and start a new one for the next string\n",
    "        c.showPage()\n",
    "    \n",
    "    # Save the PDF after all strings have been processed\n",
    "    c.save()\n",
    "    \n",
    "strings_to_pdf(all_pages_extraction)"
   ]
  },
  {
   "cell_type": "code",
   "execution_count": 537,
   "metadata": {},
   "outputs": [],
   "source": [
    "def save_string_to_txt(string, file_path):\n",
    "    with open(file_path, 'w') as file:\n",
    "        file.write(string)\n",
    "        \n",
    "os.makedirs(f\"submission/txt/{filedir}\", exist_ok=True)\n",
    "text = \"\"\n",
    "for idx,page in enumerate(all_pages_extraction):\n",
    "    text += page + \"\\n\\n\"\n",
    "    tmp= \"#\"*10  + f\"page{idx}\" +  \"#\"*10 \n",
    "    \n",
    "\n",
    "file_path = f\"submission/txt/{filedir}/{filename}.txt\"\n",
    "save_string_to_txt(text, file_path)\n"
   ]
  }
 ],
 "metadata": {
  "kernelspec": {
   "display_name": "ocr_env",
   "language": "python",
   "name": "python3"
  },
  "language_info": {
   "codemirror_mode": {
    "name": "ipython",
    "version": 3
   },
   "file_extension": ".py",
   "mimetype": "text/x-python",
   "name": "python",
   "nbconvert_exporter": "python",
   "pygments_lexer": "ipython3",
   "version": "3.9.6"
  }
 },
 "nbformat": 4,
 "nbformat_minor": 2
}
