{
 "cells": [
  {
   "cell_type": "code",
   "execution_count": 12,
   "metadata": {},
   "outputs": [],
   "source": [
    "from loguru import logger\n",
    "import boto3\n",
    "import numpy as np\n",
    "import cv2"
   ]
  },
  {
   "cell_type": "code",
   "execution_count": 13,
   "metadata": {},
   "outputs": [],
   "source": [
    "import numpy as np\n",
    "import cv2\n",
    "import fitz  # PyMuPDF\n",
    "\n",
    "def _get_image(file_path):\n",
    "    # Determine the file type from the extension\n",
    "    file_type = file_path.split('.')[-1].lower()\n",
    "    \n",
    "    if file_type in ['png', 'jpg', 'jpeg', 'gif']:\n",
    "        # Read the image using OpenCV\n",
    "        image = cv2.imread(file_path)\n",
    "        if image is None:\n",
    "            return None\n",
    "        _, im_buf_arr = cv2.imencode(f\".{file_type}\", image)\n",
    "        byte_img = im_buf_arr.tobytes()\n",
    "        return [byte_img]  # Return as a list for consistency with PDF handling\n",
    "    \n",
    "    elif file_type == 'pdf':\n",
    "        # Open the PDF file\n",
    "        doc = fitz.open(file_path)\n",
    "        images = []\n",
    "        for page in doc:\n",
    "            pix = page.get_pixmap()\n",
    "            img = np.frombuffer(pix.samples, dtype=np.uint8).reshape(pix.height, pix.width, pix.n)\n",
    "            _, im_buf_arr = cv2.imencode(\".jpg\", img)\n",
    "            byte_img = im_buf_arr.tobytes()\n",
    "            images.append(byte_img)\n",
    "        doc.close()\n",
    "        return images\n",
    "    \n",
    "    else:\n",
    "        return None\n"
   ]
  },
  {
   "cell_type": "code",
   "execution_count": 14,
   "metadata": {},
   "outputs": [],
   "source": [
    "def make_request(image) -> dict:\n",
    "    try:\n",
    "        # logger.info(f\"Making request to AWS Textract version {self._version}.\")\n",
    "        client = boto3.client(\"textract\")\n",
    "        response = client.analyze_document(\n",
    "            Document={\"Bytes\": image}, FeatureTypes=[\"TABLES\"]\n",
    "        )\n",
    "    except Exception as e:\n",
    "        message = f\"[Error] while making request to AWS Textract client. Exception: {str(e)}\"\n",
    "        logger.error(message)\n",
    "        response = {}\n",
    "    return response"
   ]
  },
  {
   "cell_type": "code",
   "execution_count": 15,
   "metadata": {},
   "outputs": [],
   "source": [
    "# #without row numbers\n",
    "\n",
    "# from trp import Document\n",
    "# doc = Document(document)\n",
    "\n",
    "# for page_number, page in enumerate(doc.pages):\n",
    "#     print(f\"### Page {page_number + 1}\\n\")  # Optional: Page header in Markdown\n",
    "#     for table_number, table in enumerate(page.tables):\n",
    "#         print(f\"**Table {table_number + 1}**\\n\")  # Optional: Table header in Markdown\n",
    "\n",
    "#         # Assuming the first column is the header, we process it separately\n",
    "#         headers = [cell.text.strip() for cell in table.rows[0].cells]\n",
    "        \n",
    "#         # Create the header row\n",
    "#         header_row = \"| \" + \" | \".join(headers) + \" |\"\n",
    "#         print(header_row)\n",
    "        \n",
    "#         # Create the separator row\n",
    "#         separator_row = \"| \" + \" | \".join([\"---\"] * len(headers)) + \" |\"\n",
    "#         print(separator_row)\n",
    "\n",
    "#         # Print each row of the table, starting from the second row since the first row is used as the header\n",
    "#         for row in table.rows[1:]:\n",
    "#             row_data = \"| \" + \" | \".join([cell.text.strip() for cell in row.cells]) + \" |\"\n",
    "#             print(row_data)\n",
    "        \n",
    "#         print(\"\\n\")  # Add a newline for better separation between tables"
   ]
  },
  {
   "cell_type": "code",
   "execution_count": 16,
   "metadata": {},
   "outputs": [],
   "source": [
    "def get_table_markdown(doc):\n",
    "\n",
    "    for page_number, page in enumerate(doc.pages):\n",
    "        for table_number, table in enumerate(page.tables):\n",
    "\n",
    "            # Create a row for column numbers\n",
    "            column_numbers = [\"Row\\\\Col\"] + [f\"Col {c+1}\" for c, _ in enumerate(table.rows[0].cells)]\n",
    "            column_number_row = \"| \" + \" | \".join(column_numbers) + \" |\"\n",
    "            print(column_number_row)\n",
    "\n",
    "            # Create the separator for column numbers\n",
    "            column_number_separator = \"| \" + \" | \".join([\"---\"] * len(column_numbers)) + \" |\"\n",
    "            print(column_number_separator)\n",
    "\n",
    "            # Assuming the first column is the header, we process it separately\n",
    "            headers = [\" \"] + [cell.text.strip() for cell in table.rows[0].cells]\n",
    "            \n",
    "            # Create the header row\n",
    "            header_row = \"| \" + \" | \".join(headers) + \" |\"\n",
    "            print(header_row)\n",
    "\n",
    "            # Print each row of the table, starting from the second row since the first row is used as the header\n",
    "            for r, row in enumerate(table.rows[1:], start=1):  # Start counting from 1 for data rows\n",
    "                row_data = \"| \" + f\"Row {r} \" + \"| \" + \" | \".join([cell.text.strip() for cell in row.cells]) + \" |\"\n",
    "                print(row_data)\n",
    "            \n",
    "            print(\"\\n\")  # Add a newline for better separation between tables1"
   ]
  },
  {
   "cell_type": "code",
   "execution_count": 17,
   "metadata": {},
   "outputs": [],
   "source": [
    "images = _get_image('/Users/avinash/Desktop/Personal projects/ocr_to_layout-text/test_dataset/Demo Documents/Freight Invoice/1270802_EMLM_CROWN_IMPORTS_LLC-1.pdf')"
   ]
  },
  {
   "cell_type": "code",
   "execution_count": 18,
   "metadata": {},
   "outputs": [],
   "source": [
    "from trp import Document\n",
    "\n",
    "response = make_request(images[0])\n",
    "doc = Document(response)"
   ]
  },
  {
   "cell_type": "code",
   "execution_count": 19,
   "metadata": {},
   "outputs": [
    {
     "name": "stdout",
     "output_type": "stream",
     "text": [
      "| Row\\Col | Col 1 | Col 2 | Col 3 | Col 4 |\n",
      "| --- | --- | --- | --- | --- |\n",
      "|   | BILL OF LADING DATE | VESSEL | VOY | SHIPMENT NUMBER |\n",
      "| Row 1 | 09-07-2021 | MATSONIA | 016 | 1804244-000 |\n",
      "\n",
      "\n",
      "| Row\\Col | Col 1 | Col 2 |\n",
      "| --- | --- | --- |\n",
      "|   | PORT OF LOADING | PORT OF DISCHARGE |\n",
      "| Row 1 | LOS ANGELES | HONOLULU |\n",
      "| Row 2 | LOAD/DISCHARGE SERVICE | PLACE OF RECEIPT/PLACE OF DELIVERY |\n",
      "| Row 3 | PJT /CY | ONTARIO |\n",
      "| Row 4 | SHIPPER'S REFERENCE | P.O.NUMBER |\n",
      "| Row 5 | 0080470320 | 15978 |\n",
      "\n",
      "\n",
      "| Row\\Col | Col 1 | Col 2 | Col 3 | Col 4 | Col 5 | Col 6 | Col 7 |\n",
      "| --- | --- | --- | --- | --- | --- | --- | --- |\n",
      "|   | No Pkgs | Kind Pkg | Commodity Description | - | Quantity | Rate | Charges |\n",
      "| Row 1 |  |  | SHIPPER'S LOAD AND COUNT SAID BEER, ALCOHOL OR NON ALCOHOL BEER | TO EA | CONTAIN 1 | 2,332.00 | 2,332.00 |\n",
      "| Row 2 |  |  | 37631 LBS 0 CFT |  |  |  |  |\n",
      "| Row 3 |  |  | INVASIVE SPECIES FEE | UNIT | 38 | 0.75 | 28.50 |\n",
      "| Row 4 |  |  | PORT SECURITY CHARGE | EA | 1 | 21.68 | 21.68 |\n",
      "| Row 5 |  |  | TERMINAL HANDLING CHARGE | EA | 1 | 1,225.00 | 1,225.00 |\n",
      "| Row 6 |  |  | FUEL RELATED SURCHARGE | PCT | 2,332 | 36.00 | 840.00 |\n",
      "| Row 7 | CONTAINER/SEAL |  | DIrSU428847-6/311912/D4 THIS CARGO WILL BE HELD IN TEMPORARY WAREHOUSE |  | STORAGE-IN-TRANSIT | AT AN OAHU |  |\n",
      "| Row 8 | Total Pkgs | Total Cube | Total Weight See Reverse for Unit of |  | Twit | Item | Total Freight |\n",
      "| Row 9 |  |  | 37,631 Formula for Calculating Charges |  | 2034E | 2975 | 4,447.18 |\n",
      "\n",
      "\n"
     ]
    }
   ],
   "source": [
    "get_table_markdown(doc)"
   ]
  },
  {
   "cell_type": "code",
   "execution_count": 20,
   "metadata": {},
   "outputs": [
    {
     "data": {
      "text/plain": [
       "0.047688886523246765"
      ]
     },
     "execution_count": 20,
     "metadata": {},
     "output_type": "execute_result"
    }
   ],
   "source": [
    "doc.pages[0].tables[0].geometry.boundingBox.height"
   ]
  },
  {
   "cell_type": "code",
   "execution_count": 21,
   "metadata": {},
   "outputs": [
    {
     "data": {
      "text/plain": [
       "0.3333817720413208"
      ]
     },
     "execution_count": 21,
     "metadata": {},
     "output_type": "execute_result"
    }
   ],
   "source": [
    "doc.pages[0].tables[2].geometry.boundingBox.top"
   ]
  },
  {
   "cell_type": "code",
   "execution_count": 22,
   "metadata": {},
   "outputs": [
    {
     "name": "stdout",
     "output_type": "stream",
     "text": [
      "{'BlockType': 'TABLE', 'Confidence': 84.375, 'Geometry': {'BoundingBox': {'Width': 0.530988872051239, 'Height': 0.047688886523246765, 'Left': 0.4356519281864166, 'Top': 0.0694987028837204}, 'Polygon': [{'X': 0.43565499782562256, 'Y': 0.0694987028837204}, {'X': 0.9666302800178528, 'Y': 0.0696440190076828}, {'X': 0.966640830039978, 'Y': 0.11718758940696716}, {'X': 0.4356519281864166, 'Y': 0.11703479290008545}]}, 'Id': '8191a1e6-b52e-46ca-a5a9-731e2debef2a', 'Relationships': [{'Type': 'CHILD', 'Ids': ['ccc820b6-20b8-4dfd-85f2-2cc13584086d', '923ac41b-35b8-4bd1-9caa-cec207eb642e', 'af82af32-2db4-4d85-9b79-6016f40710ff', 'e9a4a50c-f12b-4555-ac4f-7b960dfcf218', '06394628-ba63-4e82-897f-990b80e98697', '143a7d4e-05c0-455c-ad6e-dd5d81cdd2a1', 'c5e97405-89db-4e9a-bcaf-ffc87e1ccfd3', '921639eb-846a-46b0-a8c4-380b5de9e0d2']}], 'EntityTypes': ['SEMI_STRUCTURED_TABLE']}\n",
      "{'BlockType': 'TABLE', 'Confidence': 76.806640625, 'Geometry': {'BoundingBox': {'Width': 0.5313464999198914, 'Height': 0.15531915426254272, 'Left': 0.43532881140708923, 'Top': 0.11756303906440735}, 'Polygon': [{'X': 0.43533891439437866, 'Y': 0.11756303906440735}, {'X': 0.9666409492492676, 'Y': 0.11771600693464279}, {'X': 0.966675341129303, 'Y': 0.2728821933269501}, {'X': 0.43532881140708923, 'Y': 0.2727048099040985}]}, 'Id': 'f9fc5e43-c3ef-4207-b881-7fb29e7f9b23', 'Relationships': [{'Type': 'CHILD', 'Ids': ['24d76dcc-3620-4184-943a-b440c8ff2315', '7bfbc67e-f9d7-4c30-8261-ee45f22cc026', '146de997-6f21-46d1-a93b-473ac287aa81', 'fc893e83-2c30-4328-a511-41cffba897f1', '7a429a46-8e51-416e-88d7-dea87b5829d9', '1d8d232c-bd9b-45d0-8694-9bbccb60aed0', '22df787b-d0e6-4b6f-aa94-60bd0574ab78', '09a027cb-9e7b-4787-9159-ae1406682948', '7564e8a9-3d26-45b2-96dc-05f49d90126c', '01e6e2e1-9f66-4dca-a345-4f0447a30bc0', '0ffc928e-0261-47df-b7d6-2583ef94ab7a', '7b01b2e5-2f51-4889-8cb2-de9a5870733d']}, {'Type': 'TABLE_TITLE', 'Ids': ['15060652-0bab-4568-8b92-ef27b9b70d74']}], 'EntityTypes': ['SEMI_STRUCTURED_TABLE']}\n",
      "{'BlockType': 'TABLE', 'Confidence': 99.4140625, 'Geometry': {'BoundingBox': {'Width': 0.9259676933288574, 'Height': 0.3629274368286133, 'Left': 0.0408015102148056, 'Top': 0.3333817720413208}, 'Polygon': [{'X': 0.040902212262153625, 'Y': 0.3333817720413208}, {'X': 0.9666888117790222, 'Y': 0.3337074816226959}, {'X': 0.9667692184448242, 'Y': 0.6963092088699341}, {'X': 0.0408015102148056, 'Y': 0.695884108543396}]}, 'Id': '3f549969-5828-439b-8f54-1b8cccf04f0e', 'Relationships': [{'Type': 'CHILD', 'Ids': ['f0cbeabf-9711-402e-8669-4e6e91bef4c4', 'bcee5c5d-e9f6-4f2c-9b66-e1604b0de47c', '605e101e-2eaf-4dc4-93ac-5ec20c59fe00', '585fe5fd-2623-499e-af08-e79c1f8eafed', '14fd5b36-874c-49f3-bdd0-de8a40b16c4b', 'fe794551-12a7-4d97-86ec-207d9e7aca89', '076d936d-ced0-473a-a781-d8a897eac7f7', '81a19f6b-4224-47af-bd2a-31f5a1627b4d', 'f758bb0b-a04f-402a-a398-b02aa6116958', '43eeb45f-313f-4549-aab9-ef6f9de7147e', 'c302e6f5-894f-4df5-af63-14f26c3f11b5', 'bed9942f-d5a8-4c78-b1e9-7859def05e84', 'b181d902-a4ba-40d3-bf84-c099d1f0f608', '5d8774b9-6ad3-4d63-956b-37573d7a6ee7', 'a6f10da1-b000-424c-85ab-136f4b1198ac', '8ed34d58-34db-43d4-8704-b1828082ee82', 'f8a7a259-257f-4755-904d-fa8324ece9b8', '319b6dc4-130e-4975-899e-c5e6b32ad3c4', '76e0ffab-8278-4995-9eac-58393f11d2c4', 'cfcfccaf-b6b0-47b7-9876-54965acfbda9', '0ea93f38-a764-44e9-b92d-5cbf7876c72d', '666c015d-c275-4eaf-a576-ce3d6b72308c', '10a7cd21-d590-4d9d-a338-ae72a6724e75', '2e72b703-bbcf-41cc-a307-abb26b9be818', 'e9c861bb-bfc5-4c1f-ad82-f1b370590718', '38cbc3dc-b77a-4c7e-b454-3abb10104dc5', 'f1aa4e84-b8da-47ea-9140-95fc8ab8c847', '907942be-ea77-462c-b8fd-8846a34b8fa6', 'cadf9cee-7f85-4493-b177-a2b5ec1ab1eb', '64819ae1-706f-4424-8bbe-c11b0e4e2141', '5c4d9d8e-66f5-40dc-9fb3-8f6964595b68', 'a5b1ea62-284a-440c-9ad4-fe92e1d3ce53', 'babf56db-1b80-4510-abb2-3d8f11706be2', '38660a1d-26bd-4531-8151-ef0d924e4368', '78de6613-f93a-4e5c-a72a-32d88e72b9ff', '5524d56c-4114-4c55-a6a3-8c53faeabcb5', '0eb67662-7584-4fe8-b2db-d780f76e2ba5', '60214ebe-b60b-40b9-aa5b-c8368690cf34', '49a9a959-0205-4dd8-b7b0-07626d97e539', 'e1815a24-44b7-4bef-92d2-b6a25a2eb9a4', '6321db90-157d-4bc7-abf3-6a9c7380994a', 'f7182b4b-569d-4fa7-839a-42dd7600262f', '89c18133-db70-4ede-81ce-f51df5841b16', '6df24f51-4af1-46d6-a9b7-54059a37e312', '6aead0f6-83bd-4a05-bc04-bbe36f5a417f', '3348eb38-b63d-4a03-9478-71ded8bc7373', 'afd8edf4-18c4-4c91-b1f9-374d28c426e7', 'c6ed4c67-a56b-47fa-b5e9-ddf563848578', '1590e14f-a904-4e9f-a23b-6356b97a46e3', '3b0e098c-c010-44e7-93c2-5a858ad3efeb', '230761a8-441d-4f39-81b7-a9d5a9c8a4d9', '0d1bde0c-f414-4696-9f2f-1fd18f0ade1e', '67b75f2e-2d1a-413f-aec9-168f28dda07d', '30574202-22b5-4f87-9863-401aa4ca692a', '56dcf380-3a97-4d59-91e6-e4d45027a588', 'e9ebd3f8-bc96-4bfe-8a37-99b0dd55d000', 'fa9e3675-5c6d-454b-a914-bb951c8cedfb', '25b78bd1-7a83-4297-b518-d40312f189bf', '6e425530-59d7-4897-b2b2-f979780aabf6', '1a04e70c-5d71-4443-b3da-fec3518c0071', '35aee7e8-448b-47b0-917b-f2421233ca90', '0a2d318d-145f-4acd-b0b0-7edcb42eb8cf', 'ae45aa9a-cffa-42a1-bd07-1864b095bc13', '091766d9-02a3-4c3a-9707-2f5b06f53089', '21cd4acf-9550-4414-8daa-bd0e064bd55c', 'e5417684-b47e-4ee4-863f-a3d62e7dc732', 'f01f1312-65fc-4344-833a-d24b97db6096', '3a2baf5d-b479-4a39-a2bd-4b00ac14b3c0', 'f87b4906-e919-4437-bc3d-ad2f4a893c50', '493c4071-342a-4e62-a2c9-f7e941a89b96']}, {'Type': 'MERGED_CELL', 'Ids': ['8cb3f67f-2706-4a04-9b3b-da36dec644ef', '17b56c59-f068-47a7-a30f-bedec0f913aa', 'e28ddc3b-002e-4c22-a437-5a4887390ec1', 'f16ec04d-6c01-4b8e-b735-52ccebbde711']}, {'Type': 'TABLE_TITLE', 'Ids': ['063a0a07-974d-41b9-8791-48e35dfcd2fa']}], 'EntityTypes': ['STRUCTURED_TABLE']}\n"
     ]
    }
   ],
   "source": [
    "for document in response['Blocks']:\n",
    "    if document['BlockType'] == 'TABLE':\n",
    "        print(document)"
   ]
  }
 ],
 "metadata": {
  "kernelspec": {
   "display_name": "ocr_env",
   "language": "python",
   "name": "python3"
  },
  "language_info": {
   "codemirror_mode": {
    "name": "ipython",
    "version": 3
   },
   "file_extension": ".py",
   "mimetype": "text/x-python",
   "name": "python",
   "nbconvert_exporter": "python",
   "pygments_lexer": "ipython3",
   "version": "3.9.6"
  }
 },
 "nbformat": 4,
 "nbformat_minor": 2
}
