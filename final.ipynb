{
 "cells": [
  {
   "cell_type": "code",
   "execution_count": 115,
   "metadata": {},
   "outputs": [],
   "source": [
    "from final_structure.utils import _get_image\n",
    "from final_structure.aws import get_table_markdown\n",
    "from final_structure.gcs import make_request, format_text_from_annotations"
   ]
  },
  {
   "cell_type": "code",
   "execution_count": 116,
   "metadata": {},
   "outputs": [],
   "source": [
    "image_path = '/Users/avinash/Desktop/Personal projects/ocr_to_layout-text/test_dataset/Demo Documents/Utility Bills/LGE5.pdf'"
   ]
  },
  {
   "cell_type": "code",
   "execution_count": 117,
   "metadata": {},
   "outputs": [],
   "source": [
    "image = _get_image(image_path)"
   ]
  },
  {
   "cell_type": "code",
   "execution_count": 118,
   "metadata": {},
   "outputs": [],
   "source": [
    "# (table_dict,dimension_dict)=get_table_markdown(image[0][0],image[0][1],image[0][2])"
   ]
  },
  {
   "cell_type": "code",
   "execution_count": 119,
   "metadata": {},
   "outputs": [],
   "source": [
    "# gcs_response = make_request(image[0][0])"
   ]
  },
  {
   "cell_type": "code",
   "execution_count": 120,
   "metadata": {},
   "outputs": [],
   "source": [
    "# gcs_extraction = format_text_from_annotations(gcs_response,dimension_dict,y_threshold=10,num_segments=70,x_close_threshold=100)"
   ]
  },
  {
   "cell_type": "code",
   "execution_count": 121,
   "metadata": {},
   "outputs": [],
   "source": [
    "# tables = \"\"\n",
    "# for idx,value in table_dict.items():\n",
    "#     tables += f\"#{idx}:\\n\\n {value}\\n\\n\""
   ]
  },
  {
   "cell_type": "code",
   "execution_count": 122,
   "metadata": {},
   "outputs": [],
   "source": [
    "all_pages_extraction = []\n",
    "for idx,image_idx in enumerate(image):\n",
    "    gcs_response = make_request(image_idx[0])\n",
    "    (table_dict,dimension_dict)=get_table_markdown(image_idx[0],image_idx[1],image_idx[2],idx)\n",
    "    gcs_response = format_text_from_annotations(gcs_response,dimension_dict,y_threshold=10,num_segments=80,x_close_threshold=70)\n",
    "    tables = \"\"\n",
    "    for idx,value in table_dict.items():\n",
    "        tables += f\"#{idx}:\\n\\n {value}\\n\\n\"\n",
    "    final_Response = f\"{gcs_response}\\n\\n{tables}\"\n",
    "    all_pages_extraction.append(final_Response)"
   ]
  },
  {
   "cell_type": "code",
   "execution_count": 123,
   "metadata": {},
   "outputs": [],
   "source": [
    "# no_table = True\n",
    "# if no_table:\n",
    "#     dimension_dict = {}\n",
    "# all_pages_extraction = []\n",
    "# for idx,image_idx in enumerate(image):\n",
    "#     gcs_response = make_request(image_idx[0])\n",
    "#     gcs_response = format_text_from_annotations(gcs_response,dimension_dict,y_threshold=8,num_segments=80,x_close_threshold=50)\n",
    "#     final_Response = gcs_response\n",
    "#     all_pages_extraction.append(final_Response)"
   ]
  },
  {
   "cell_type": "code",
   "execution_count": 124,
   "metadata": {},
   "outputs": [],
   "source": [
    "# final_Response = f\"{gcs_extraction}\\n\\n{tables}\"\n",
    "# final_Response = f\"{gcs_extraction}\""
   ]
  },
  {
   "cell_type": "code",
   "execution_count": 125,
   "metadata": {},
   "outputs": [],
   "source": [
    "dir_paths = image_path.split(\"/\")"
   ]
  },
  {
   "cell_type": "code",
   "execution_count": 126,
   "metadata": {},
   "outputs": [],
   "source": [
    "filename=dir_paths[-1].split(\".\")[0]\n",
    "filedir=dir_paths[-2]"
   ]
  },
  {
   "cell_type": "code",
   "execution_count": 127,
   "metadata": {},
   "outputs": [],
   "source": [
    "from reportlab.pdfgen import canvas\n",
    "from reportlab.lib.pagesizes import letter\n",
    "from reportlab.pdfbase import pdfmetrics\n",
    "from reportlab.pdfbase.ttfonts import TTFont\n",
    "import os\n",
    "\n",
    "def strings_to_pdf(strings, width=1800, height=1500):  # Default size for A4\n",
    "    # Register the font\n",
    "    pdfmetrics.registerFont(TTFont('Monaco', 'MONACO.TTF'))\n",
    "    os.makedirs(f\"submission/pdf/{filedir}\", exist_ok=True)\n",
    "    \n",
    "    # Create a new PDF with custom dimensions\n",
    "    c = canvas.Canvas(f\"submission/pdf/{filedir}/{filename}.pdf\", pagesize=(width, height))\n",
    "    \n",
    "    for text in strings:\n",
    "        c.setFont(\"Monaco\", 12)  # Set the font and size\n",
    "        \n",
    "        # Split the text into lines\n",
    "        lines = text.split('\\n')\n",
    "        \n",
    "        # Draw each line on the PDF\n",
    "        y = height - 50  # Start drawing 50 points from the top of the page\n",
    "        for line in lines:\n",
    "            c.drawString(50, y, line)  # Start drawing 50 points from the left of the page\n",
    "            y -= 20  # Move down 20 points for the next line\n",
    "        \n",
    "        # End the current page and start a new one for the next string\n",
    "        c.showPage()\n",
    "    \n",
    "    # Save the PDF after all strings have been processed\n",
    "    c.save()\n",
    "    \n",
    "strings_to_pdf(all_pages_extraction)"
   ]
  },
  {
   "cell_type": "code",
   "execution_count": 128,
   "metadata": {},
   "outputs": [],
   "source": [
    "def save_string_to_txt(string, file_path):\n",
    "    with open(file_path, 'w') as file:\n",
    "        file.write(string)\n",
    "        \n",
    "os.makedirs(f\"submission/txt/{filedir}\", exist_ok=True)\n",
    "text = \"\"\n",
    "for idx,page in enumerate(all_pages_extraction):\n",
    "    text += page + \"\\n\\n\"\n",
    "    tmp= \"#\"*10  + f\"page{idx}\" +  \"#\"*10 \n",
    "    \n",
    "\n",
    "file_path = f\"submission/txt/{filedir}/{filename}.txt\"\n",
    "save_string_to_txt(text, file_path)\n"
   ]
  }
 ],
 "metadata": {
  "kernelspec": {
   "display_name": "ocr_env",
   "language": "python",
   "name": "python3"
  },
  "language_info": {
   "codemirror_mode": {
    "name": "ipython",
    "version": 3
   },
   "file_extension": ".py",
   "mimetype": "text/x-python",
   "name": "python",
   "nbconvert_exporter": "python",
   "pygments_lexer": "ipython3",
   "version": "3.9.6"
  }
 },
 "nbformat": 4,
 "nbformat_minor": 2
}
